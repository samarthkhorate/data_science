{
 "cells": [
  {
   "cell_type": "markdown",
   "id": "893a0ace-6bf7-4f0a-a4ee-ef8548fecedb",
   "metadata": {},
   "source": [
    "# <center><div class='alert alert-success'> samarthkhorate  </div></center>"
   ]
  },
  {
   "cell_type": "markdown",
   "id": "435759e2-d0d3-4b06-9230-a7c34080938e",
   "metadata": {},
   "source": [
    "## TABLE CONTAIN ##"
   ]
  },
  {
   "cell_type": "markdown",
   "id": "250438a6-00d7-406c-8847-cf2a5ccab8ea",
   "metadata": {},
   "source": [
    "<div class='alert alert-success'>\n",
    "Python Data Types<br> ----- a) Built-in Data Types<br> $;;;;;;$ $;;;;;;$ Numeric Types (int, float, complex)<br> $;;;;;;$ $;;;;;;$ Boolean Type<br> $;;;;;;$ $;;;;;;$ Sequence Types (list, tuple, range)<br> $;;;;;;$ $;;;;;;$ Text Type (str)<br> $;;;;;;$ $;;;;;;$ Set Type<br> $;;;;;;$ $;;;;;;$ Mapping Type (dict)<br> ----- b) Type Conversion<br> $;;;;;;$ $;;;;;;$ Implicit Type Conversion<br> $;;;;;;$ $;;;;;;$ Explicit Type Conversion<br><br>\n",
    "\n",
    "Python Loops<br> ----- a) For Loop<br> $;;;;;;$ $;;;;;;$ Iterating over a sequence (list, tuple, dict, etc.)<br> $;;;;;;$ $;;;;;;$ Using range() in For Loops<br> ----- b) While Loop<br> $;;;;;;$ $;;;;;;$ Basic While Loop Syntax<br> $;;;;;;$ $;;;;;;$ Loop Control Statements (break, continue, pass)<br> ----- c) Nested Loops<br> ----- d) List Comprehension (Advanced Looping)<br><br>\n",
    "\n",
    "Python Operators<br> ----- a) Arithmetic Operators<br> $;;;;;;$ $;;;;;;$ Addition, Subtraction, Multiplication, Division, etc.<br> ----- b) Comparison Operators<br> $;;;;;;$ $;;;;;;$ Greater Than, Less Than, Equal To, etc.<br> ----- c) Logical Operators<br> $;;;;;;$ $;;;;;;$ AND, OR, NOT<br> ----- d) Assignment Operators<br> $;;;;;;$ $;;;;;;$ =, +=, -=, etc.<br> ----- e) Bitwise Operators<br> $;;;;;;$ $;;;;;;$ AND, OR, XOR, NOT, etc.<br> -----<br>\n",
    "\n",
    "Python Functions<br> ----- a) Defining Functions<br> $;;;;;;$ $;;;;;;$ Function Declaration and Calling<br> $;;;;;;$ $;;;;;;$ Parameters and Arguments<br> ----- b) Lambda Functions (Anonymous Functions)<br> ----- c) Built-in Functions (map, filter, reduce)<br> ----- d) Recursion in Functions<br> ----- e) Docstrings and Annotations<br> ----- f) *args and **kwargs<br><br>\n",
    "\n",
    "Python Classes and OOP Concepts<br> ----- a) Introduction to Object-Oriented Programming<br> ----- b) Creating a Class<br> $;;;;;;$ $;;;;;;$ Class Attributes and Methods<br> $;;;;;;$ $;;;;;;$ Constructor Method (init)<br> ----- c) Inheritance<br> $;;;;;;$ $;;;;;;$ Single and Multiple Inheritance<br> ----- d) Polymorphism<br> $;;;;;;$ $;;;;;;$ Method Overriding<br> $;;;;;;$ $;;;;;;$ Method Overloading<br> ----- e) Encapsulation<br> $;;;;;;$ $;;;;;;$ Private and Public Members<br> ----- f) Abstraction<br> ----- g) Class and Static Methods<br> ----- h) Dunder (Magic) Methods<br> $;;;;;;$ $;;;;;;$ str, repr, len, etc.<br><br>\n",
    "\n",
    "File Management in Python<br> ----- a) File Handling Basics<br> $;;;;;;$ $;;;;;;$ Opening, Reading, Writing, and Closing Files<br> ----- b) File Modes (r, w, a, r+, etc.)<br> ----- c) Handling Exceptions with Files<br> ----- d) Working with CSV Files<br> ----- e) Using with Statement for File Management<br> ----- f) File and Directory Operations (os module)<br> $;;;;;;$ $;;;;;;$ Creating, Deleting, and Renaming Files/Folders<br><br>"
   ]
  },
  {
   "cell_type": "markdown",
   "id": "39481bf5-d24f-4fa4-a60a-4f69cbd923fd",
   "metadata": {},
   "source": [
    "## Python Data Types ##"
   ]
  },
  {
   "cell_type": "markdown",
   "id": "aa7b7b86-315c-403e-9df3-d42bd9a0c09b",
   "metadata": {},
   "source": [
    "### Built in data types ###"
   ]
  },
  {
   "cell_type": "markdown",
   "id": "a3ffc43e-34ec-4c0c-b49a-0c6e30d1c3aa",
   "metadata": {},
   "source": [
    "#### 1) Numeric Types ####"
   ]
  },
  {
   "cell_type": "markdown",
   "id": "2c744ff7-ce5f-4944-8277-aa7ac57d5ea3",
   "metadata": {},
   "source": [
    "##### An integer is a whole number without decimals, and it can be positive, negative, or zero. #####"
   ]
  },
  {
   "cell_type": "code",
   "execution_count": 1,
   "id": "28872c78-1698-4bd3-8f30-5e4761fe9b07",
   "metadata": {},
   "outputs": [
    {
     "name": "stdout",
     "output_type": "stream",
     "text": [
      "5\n"
     ]
    }
   ],
   "source": [
    "a = 10       # Positive integer\n",
    "b = -5       # Negative integer\n",
    "c = 0        # Zero is also an integer\n",
    "print(a + b)  # Output: 5"
   ]
  },
  {
   "cell_type": "markdown",
   "id": "99e4d396-ac2f-4bde-97d6-3a08e6258958",
   "metadata": {},
   "source": [
    "##### A float represents a number that has a decimal point. Floats are used for numbers that require precision, such as fractions or scientific numbers. #####"
   ]
  },
  {
   "cell_type": "code",
   "execution_count": 2,
   "id": "ebb3f153-c3d7-4cd4-ac9d-fceb8005f1ea",
   "metadata": {},
   "outputs": [
    {
     "name": "stdout",
     "output_type": "stream",
     "text": [
      "3.1390000000000002\n"
     ]
    }
   ],
   "source": [
    "x = 3.14     # Float number\n",
    "y = -0.001   # Negative float number\n",
    "z = 1.23e4   # Scientific notation for 12300.0\n",
    "print(x + y)  # Output: 3.139"
   ]
  },
  {
   "cell_type": "markdown",
   "id": "0e4873ec-1d53-4571-8fb8-9f1e8251e426",
   "metadata": {},
   "source": [
    "##### A complex number consists of two parts: a real part and an imaginary part. In Python, complex numbers are written as a + bj, where a is the real part and b is the imaginary part. #####"
   ]
  },
  {
   "cell_type": "code",
   "execution_count": 3,
   "id": "a1b74bb7-bc23-420c-92a5-1f35d75a1172",
   "metadata": {},
   "outputs": [
    {
     "name": "stdout",
     "output_type": "stream",
     "text": [
      "(3+2j)\n"
     ]
    }
   ],
   "source": [
    "p = 2 + 3j   # Complex number: real part is 2, imaginary part is 3j\n",
    "q = 1 - 1j   # Complex number: real part is 1, imaginary part is -1j\n",
    "print(p + q)  # Output: (3+2j)"
   ]
  },
  {
   "cell_type": "markdown",
   "id": "ee3bbb14-0e1e-4c00-aa8d-63aa3e41fe01",
   "metadata": {},
   "source": [
    "#### 2) Boolean data types ####"
   ]
  },
  {
   "cell_type": "markdown",
   "id": "6e5dc9c4-87ea-439d-b4b7-ce9abb608fa8",
   "metadata": {},
   "source": [
    "##### A Boolean data type in Python can have one of two values: True or False. #####"
   ]
  },
  {
   "cell_type": "code",
   "execution_count": 5,
   "id": "6a803932-eed2-403a-a5f6-5c5c7db90afc",
   "metadata": {},
   "outputs": [
    {
     "name": "stdout",
     "output_type": "stream",
     "text": [
      "False\n",
      "True\n"
     ]
    }
   ],
   "source": [
    "# Boolean values\n",
    "is_raining = True\n",
    "is_sunny = False\n",
    "\n",
    "# Boolean result of a comparison\n",
    "x = 5\n",
    "y = 10\n",
    "\n",
    "print(x > y)  # Output: False (because 5 is not greater than 10)\n",
    "print(x < y)  # Output: True (because 5 is less than 10)"
   ]
  },
  {
   "cell_type": "markdown",
   "id": "9fb92a5f-bff5-40da-a0e9-64d1fbf0b90e",
   "metadata": {},
   "source": [
    "#### 3) Sequence data type ####"
   ]
  },
  {
   "cell_type": "markdown",
   "id": "7f378cf5-c36f-46eb-8294-802294f33767",
   "metadata": {},
   "source": [
    "##### A sequence is an ordered collection of items, where each item is accessible via its position (or index). Python provides several sequence data types, such as lists, tuples, and range. #####"
   ]
  },
  {
   "cell_type": "markdown",
   "id": "318ad1a2-6d71-4b3d-b3e2-a21308223569",
   "metadata": {},
   "source": [
    "#### a) list ####"
   ]
  },
  {
   "cell_type": "markdown",
   "id": "b69d219f-e718-4392-9834-2e25136c5f2b",
   "metadata": {},
   "source": [
    "A list is a mutable (modifiable) sequence that can hold a collection of items, which may be of different data types (e.g., integers, strings, other lists)."
   ]
  },
  {
   "cell_type": "code",
   "execution_count": 11,
   "id": "e9247490-17b4-4536-965b-13ee2e81d760",
   "metadata": {},
   "outputs": [
    {
     "name": "stdout",
     "output_type": "stream",
     "text": [
      "apple\n",
      "old list :  [10, 20, 'apple', 5.5]\n",
      "modified list :  [10, 30, 'apple', 5.5]\n"
     ]
    }
   ],
   "source": [
    "my_list = [10, 20, \"apple\", 5.5]  # List containing integers, string, another list, and a float\n",
    "print(my_list[2]) \n",
    "print(\"old list : \" ,my_list)\n",
    "my_list[1] = 30  # Modifying the second element\n",
    "print(\"modified list : \" ,my_list)    \n"
   ]
  },
  {
   "cell_type": "markdown",
   "id": "faeed366-0e6b-4bcc-bab8-55dbfcc9017b",
   "metadata": {},
   "source": [
    "#### b) Tuple ####"
   ]
  },
  {
   "cell_type": "markdown",
   "id": "5c5f7477-44af-444e-8a14-b884401e7ee0",
   "metadata": {},
   "source": [
    "A tuple is an immutable (cannot be modified) sequence that holds a collection of items, similar to a list. Tuples are generally used for fixed collections of items where no changes are needed."
   ]
  },
  {
   "cell_type": "code",
   "execution_count": 12,
   "id": "2eff91cf-18af-4f5e-abdf-de2a1585d38d",
   "metadata": {},
   "outputs": [
    {
     "name": "stdout",
     "output_type": "stream",
     "text": [
      "20\n"
     ]
    }
   ],
   "source": [
    "my_tuple = (10, 20, \"banana\", 5.5)  # A tuple with various types\n",
    "print(my_tuple[1])  # Output: 20\n",
    "\n",
    "# my_tuple[1] = 30  # This will raise an error as tuples are immutable\n"
   ]
  },
  {
   "cell_type": "markdown",
   "id": "a7ed072a-c89b-4143-91fc-b4d746be624b",
   "metadata": {},
   "source": [
    "#### c) Range ####"
   ]
  },
  {
   "cell_type": "markdown",
   "id": "251eab0c-c660-43b1-b2cf-4d75a734db49",
   "metadata": {},
   "source": [
    "The range type is a special sequence used for generating a sequence of numbers. It is commonly used in loops."
   ]
  },
  {
   "cell_type": "code",
   "execution_count": 13,
   "id": "e9781948-6105-4678-a04a-fff1acc567db",
   "metadata": {},
   "outputs": [
    {
     "name": "stdout",
     "output_type": "stream",
     "text": [
      "1\n",
      "3\n",
      "5\n",
      "7\n",
      "9\n"
     ]
    }
   ],
   "source": [
    "my_range = range(1, 10, 2)  # Sequence from 1 to 9, with a step of 2\n",
    "for num in my_range:\n",
    "    print(num) "
   ]
  },
  {
   "cell_type": "markdown",
   "id": "74920048-500a-4a91-a125-78fcb99506b4",
   "metadata": {},
   "source": [
    "#### 4) text data types ####"
   ]
  },
  {
   "cell_type": "markdown",
   "id": "d0ebf941-6f6e-4642-b14c-8f343ad161df",
   "metadata": {},
   "source": [
    "In Python, the text type is represented by the str (string) data type."
   ]
  },
  {
   "cell_type": "code",
   "execution_count": 14,
   "id": "c9712dba-a161-4e46-b934-4266864d4c16",
   "metadata": {},
   "outputs": [],
   "source": [
    "# Single line strings\n",
    "string1 = \"Hello, World!\"\n",
    "string2 = 'Python Programming'\n",
    "\n",
    "# Multiline string\n",
    "string3 = \"\"\"This is a\n",
    "multiline string.\"\"\"\n"
   ]
  },
  {
   "cell_type": "markdown",
   "id": "dd18a1b0-99df-45d7-a70b-aefc9cc96625",
   "metadata": {},
   "source": [
    "#### 5) set data types ####"
   ]
  },
  {
   "cell_type": "markdown",
   "id": "6a3826d9-f23c-437e-ad6a-45c81ec808cc",
   "metadata": {},
   "source": [
    "A set is a collection data type in Python that stores unordered, unique elements."
   ]
  },
  {
   "cell_type": "code",
   "execution_count": 16,
   "id": "811e6537-a008-4587-9313-d5a5229087f9",
   "metadata": {},
   "outputs": [
    {
     "name": "stdout",
     "output_type": "stream",
     "text": [
      "{'banana', 'cherry', 'apple'}\n",
      "{1, 2, 3, 4, 5}\n"
     ]
    }
   ],
   "source": [
    "# Creating a set using curly braces\n",
    "fruits = {\"apple\", \"banana\", \"cherry\"}\n",
    "print(fruits)  \n",
    "\n",
    "# Creating a set using the set() constructor\n",
    "numbers = set([1, 2, 3, 4, 4, 5])\n",
    "print(numbers)  # (duplicates are removed)\n"
   ]
  },
  {
   "cell_type": "markdown",
   "id": "0ca1ec2f-dcbe-4572-8442-67ff0e08126f",
   "metadata": {},
   "source": [
    "#### 6)Mapping Data Type: Dictionary (dict) ####"
   ]
  },
  {
   "cell_type": "markdown",
   "id": "2d9a48f7-c54b-4d65-9959-ec198338d6ec",
   "metadata": {},
   "source": [
    "A dictionary in Python is a built-in data type that represents a collection of key-value pairs."
   ]
  },
  {
   "cell_type": "code",
   "execution_count": 17,
   "id": "f3c50057-ca1c-4af4-bb19-58e4d2dfddb1",
   "metadata": {},
   "outputs": [
    {
     "name": "stdout",
     "output_type": "stream",
     "text": [
      "{'name': 'Alice', 'age': 30, 'city': 'New York'}\n"
     ]
    }
   ],
   "source": [
    "# Creating a dictionary\n",
    "person = {\n",
    "    \"name\": \"Alice\",\n",
    "    \"age\": 30,\n",
    "    \"city\": \"New York\"\n",
    "}\n",
    "print(person)  # Output: {'name': 'Alice', 'age': 30, 'city': 'New York'}\n"
   ]
  },
  {
   "cell_type": "markdown",
   "id": "d6bbc56a-4e5b-4b94-9053-5b115e1921e5",
   "metadata": {},
   "source": [
    "### TYPE CONVERSION ###"
   ]
  },
  {
   "cell_type": "markdown",
   "id": "a28a18d7-840a-4c8c-b072-63df46c88eca",
   "metadata": {},
   "source": [
    "Type conversion refers to the process of converting a value from one data type to another.\n"
   ]
  },
  {
   "cell_type": "markdown",
   "id": "43aabb73-b680-42db-8a85-fe13f0650feb",
   "metadata": {},
   "source": [
    "#### 1)Implicit Type Conversion (Automatic) ####"
   ]
  },
  {
   "cell_type": "markdown",
   "id": "1ba98937-8ba3-4cd9-9c06-1e6b1bfb8ff6",
   "metadata": {},
   "source": [
    " Python automatically converts one data type to another to perform the operation without any explicit request from the user."
   ]
  },
  {
   "cell_type": "code",
   "execution_count": 19,
   "id": "66e1660c-bd21-47f7-843d-7002ad6fb01a",
   "metadata": {},
   "outputs": [
    {
     "name": "stdout",
     "output_type": "stream",
     "text": [
      "7.5\n"
     ]
    }
   ],
   "source": [
    "# Implicit conversion from int to float\n",
    "num_int = 5\n",
    "num_float = 2.5\n",
    "result = num_int + num_float  # int is implicitly converted to float\n",
    "print(result)  \n"
   ]
  },
  {
   "cell_type": "markdown",
   "id": "4779b808-17e5-4b63-ab6f-5433b5990ce3",
   "metadata": {},
   "source": [
    "#### 2)Explicit Type Conversion (Manual) ####"
   ]
  },
  {
   "cell_type": "markdown",
   "id": "73e62180-5991-4a87-ba8a-bc30097edf9a",
   "metadata": {},
   "source": [
    "Explicit type conversion requires the use of built-in functions to convert a value from one type to another."
   ]
  },
  {
   "cell_type": "markdown",
   "id": "fc0a5982-d1d2-4aa6-a1df-74945023882f",
   "metadata": {},
   "source": [
    "##### int() #####"
   ]
  },
  {
   "cell_type": "markdown",
   "id": "b9bfcfa8-4b67-4459-b65d-3126f1c3bc86",
   "metadata": {},
   "source": [
    "Converts a value to an integer. It can handle float values, strings containing digits, and other types."
   ]
  },
  {
   "cell_type": "code",
   "execution_count": 20,
   "id": "ad6d2771-8c17-46f1-90e0-47b3ec8acd76",
   "metadata": {},
   "outputs": [
    {
     "name": "stdout",
     "output_type": "stream",
     "text": [
      "42\n",
      "3\n"
     ]
    }
   ],
   "source": [
    "num_str = \"42\"\n",
    "num_int = int(num_str)  # Convert string to integer\n",
    "print(num_int)  # Output: 42\n",
    "\n",
    "num_float = 3.14\n",
    "num_int = int(num_float)  # Convert float to integer (truncates decimal part)\n",
    "print(num_int)  \n"
   ]
  },
  {
   "cell_type": "markdown",
   "id": "e628b7d9-b198-41f3-8bb1-21da7a36f63b",
   "metadata": {},
   "source": [
    "##### float() #####"
   ]
  },
  {
   "cell_type": "markdown",
   "id": "3c9e18a6-1712-4127-b17e-798cc103c625",
   "metadata": {},
   "source": [
    "Converts a value to a float. It can handle integers, strings containing decimal numbers, and other types."
   ]
  },
  {
   "cell_type": "code",
   "execution_count": 21,
   "id": "5042ffef-8ee7-4096-9e54-dae25f3d6a8d",
   "metadata": {},
   "outputs": [
    {
     "name": "stdout",
     "output_type": "stream",
     "text": [
      "5.0\n",
      "3.14\n"
     ]
    }
   ],
   "source": [
    "num_int = 5\n",
    "num_float = float(num_int)  # Convert integer to float\n",
    "print(num_float)  \n",
    "\n",
    "num_str = \"3.14\"\n",
    "num_float = float(num_str)  # Convert string to float\n",
    "print(num_float)  "
   ]
  },
  {
   "cell_type": "markdown",
   "id": "81fb889a-64cb-4764-b5d5-9605fbd0e998",
   "metadata": {},
   "source": [
    "##### str() #####"
   ]
  },
  {
   "cell_type": "markdown",
   "id": "98f06bd5-bc8f-436b-89b5-a436d88794fc",
   "metadata": {},
   "source": [
    "Converts a value to a string. It can handle integers, floats, and other types.\n"
   ]
  },
  {
   "cell_type": "code",
   "execution_count": 22,
   "id": "28755c76-7223-4430-af79-b6e1cb6a2bed",
   "metadata": {},
   "outputs": [
    {
     "name": "stdout",
     "output_type": "stream",
     "text": [
      "100\n",
      "3.14\n"
     ]
    }
   ],
   "source": [
    "num_int = 100\n",
    "num_str = str(num_int)  # Convert integer to string\n",
    "print(num_str)  \n",
    "\n",
    "num_float = 3.14\n",
    "num_str = str(num_float)  # Convert float to string\n",
    "print(num_str) \n"
   ]
  },
  {
   "cell_type": "markdown",
   "id": "9219bb7e-461c-460c-bbca-b6dd7e9e4705",
   "metadata": {},
   "source": [
    "##### list() #####"
   ]
  },
  {
   "cell_type": "markdown",
   "id": "ef25df53-a920-43f5-a4b2-f60c4805141e",
   "metadata": {},
   "source": [
    "Converts an iterable (like a tuple, set, or string) to a list."
   ]
  },
  {
   "cell_type": "code",
   "execution_count": 23,
   "id": "5921401f-69f0-4b30-bb3a-c195628b8e8a",
   "metadata": {},
   "outputs": [
    {
     "name": "stdout",
     "output_type": "stream",
     "text": [
      "[1, 2, 3]\n",
      "[4, 5, 6]\n"
     ]
    }
   ],
   "source": [
    "num_tuple = (1, 2, 3)\n",
    "num_list = list(num_tuple)  # Convert tuple to list\n",
    "print(num_list)  \n",
    "\n",
    "num_set = {4, 5, 6}\n",
    "num_list = list(num_set)  # Convert set to list\n",
    "print(num_list)  \n"
   ]
  },
  {
   "cell_type": "markdown",
   "id": "c6b143f9-d0a4-4506-b333-c69463747efc",
   "metadata": {},
   "source": [
    "##### tuple() #####"
   ]
  },
  {
   "cell_type": "markdown",
   "id": "dcdf0d72-8000-4a3e-b802-123a9dc4b3b6",
   "metadata": {},
   "source": [
    "Converts an iterable to a tuple."
   ]
  },
  {
   "cell_type": "code",
   "execution_count": 25,
   "id": "f088d476-3167-40be-857e-97fd4d0086c8",
   "metadata": {},
   "outputs": [
    {
     "name": "stdout",
     "output_type": "stream",
     "text": [
      "(1, 2, 3)\n",
      "(4, 5, 6)\n"
     ]
    }
   ],
   "source": [
    "num_list = [1, 2, 3]\n",
    "num_tuple = tuple(num_list)  # Convert list to tuple\n",
    "print(num_tuple)  \n",
    "\n",
    "num_set = {4, 5, 6}\n",
    "num_tuple = tuple(num_set)  # Convert set to tuple\n",
    "print(num_tuple)  \n"
   ]
  },
  {
   "cell_type": "markdown",
   "id": "4a346295-3ca5-4465-a506-82f7ae65436a",
   "metadata": {},
   "source": [
    "##### set() #####"
   ]
  },
  {
   "cell_type": "markdown",
   "id": "ef910094-2f48-4c3f-a3d8-80f2cae50584",
   "metadata": {},
   "source": [
    "Converts an iterable to a set, which removes duplicates."
   ]
  },
  {
   "cell_type": "code",
   "execution_count": 26,
   "id": "135f78cd-b647-45ea-8132-5b1817c90669",
   "metadata": {},
   "outputs": [
    {
     "name": "stdout",
     "output_type": "stream",
     "text": [
      "{1, 2, 3}\n",
      "{4, 5, 6}\n"
     ]
    }
   ],
   "source": [
    "num_list = [1, 2, 2, 3]\n",
    "num_set = set(num_list)  # Convert list to set (duplicates removed)\n",
    "print(num_set)  \n",
    "\n",
    "num_tuple = (4, 5, 5, 6)\n",
    "num_set = set(num_tuple)  # Convert tuple to set (duplicates removed)\n",
    "print(num_set) \n"
   ]
  },
  {
   "cell_type": "code",
   "execution_count": null,
   "id": "f9b0f9d7-8222-4f28-ae4b-c2cbec1e2530",
   "metadata": {},
   "outputs": [],
   "source": []
  }
 ],
 "metadata": {
  "kernelspec": {
   "display_name": "Python 3 (ipykernel)",
   "language": "python",
   "name": "python3"
  },
  "language_info": {
   "codemirror_mode": {
    "name": "ipython",
    "version": 3
   },
   "file_extension": ".py",
   "mimetype": "text/x-python",
   "name": "python",
   "nbconvert_exporter": "python",
   "pygments_lexer": "ipython3",
   "version": "3.11.2"
  }
 },
 "nbformat": 4,
 "nbformat_minor": 5
}
